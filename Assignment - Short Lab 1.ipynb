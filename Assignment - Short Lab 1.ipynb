{
 "cells": [
  {
   "cell_type": "code",
   "execution_count": null,
   "metadata": {},
   "outputs": [],
   "source": [
    "## Problem 2\n",
    "\n",
    "num1= int(input('Enter a positive integer '))\n",
    "num2= int(input('Enter another positive integer '))\n",
    "\n",
    "addition = num1 + num2\n",
    "print('The sum of {0} and {1} is {2}'.format(num1, num2, addition))\n",
    "\n",
    "subtract = num2 - num1\n",
    "print('The difference of {0} and {1} is {2}'.format(num1, num2, subtract))\n",
    "\n",
    "multiplication = num1 * num2\n",
    "print('The product of {0} and {1} is {2}'.format(num1, num2, multiplication))\n",
    "\n",
    "division = num1 / num2 \n",
    "divisioni = int(division)\n",
    "print('The quotient of {0} and {1} is {2}'.format(num1, num2, divisioni))\n",
    "\n",
    "remainder = num1 % num2\n",
    "print('The remainder of {0} and {1} is {2}'.format(num1, num2, remainder))\n",
    "\n"
   ]
  },
  {
   "cell_type": "code",
   "execution_count": null,
   "metadata": {},
   "outputs": [],
   "source": [
    " ## Problem 3\n",
    "def convert_cm_to_m(height):\n",
    "    mheight = height\n",
    "    return height/100\n",
    "\n",
    "weight = float(input('Enter your weight in kilograms here '))\n",
    "height = float(input('Enter your height in cemtimeters here '))\n",
    "mheight = convert_cm_to_m(height)\n",
    "bmi = weight/mheight*mheight\n",
    "\n",
    "print('Your BMI is',bmi)"
   ]
  },
  {
   "cell_type": "code",
   "execution_count": null,
   "metadata": {},
   "outputs": [],
   "source": [
    "## Problem 1\n",
    "def usd_php(usd):\n",
    "    conversion = usd\n",
    "    return conversion*50\n",
    "\n",
    "usd = float(input('Enter US dollar quantity here '))\n",
    "conversion = usd_php(usd)\n",
    "print('This amount of US dollars: {0} Amounts to {1} in Philippine Peso'.format (usd, conversion))"
   ]
  }
 ],
 "metadata": {
  "kernelspec": {
   "display_name": "Python 3",
   "language": "python",
   "name": "python3"
  },
  "language_info": {
   "codemirror_mode": {
    "name": "ipython",
    "version": 3
   },
   "file_extension": ".py",
   "mimetype": "text/x-python",
   "name": "python",
   "nbconvert_exporter": "python",
   "pygments_lexer": "ipython3",
   "version": "3.8.5"
  }
 },
 "nbformat": 4,
 "nbformat_minor": 4
}
